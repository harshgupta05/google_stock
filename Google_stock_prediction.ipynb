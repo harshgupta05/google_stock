{
  "nbformat": 4,
  "nbformat_minor": 0,
  "metadata": {
    "colab": {
      "name": "Google_Stocks_Prediction.ipynb",
      "provenance": [],
      "collapsed_sections": []
    },
    "kernelspec": {
      "name": "python3",
      "display_name": "Python 3"
    },
    "language_info": {
      "name": "python"
    }
  },
  "cells": [
    {
      "cell_type": "markdown",
      "metadata": {
        "id": "dzzV0QEYJw2D"
      },
      "source": [
        "# **Importing Dataset**"
      ]
    },
    {
      "cell_type": "code",
      "metadata": {
        "id": "Pm8f1S9emFDe",
        "colab": {
          "resources": {
            "http://localhost:8080/nbextensions/google.colab/files.js": {
              "data": "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",
              "ok": true,
              "headers": [
                [
                  "content-type",
                  "application/javascript"
                ]
              ],
              "status": 200,
              "status_text": ""
            }
          },
          "base_uri": "https://localhost:8080/",
          "height": 72
        },
        "outputId": "91706fb4-f54e-4067-fd8b-bdfb9ad49ad8"
      },
      "source": [
        "from google.colab import files\n",
        "uploaded = files.upload()"
      ],
      "execution_count": 147,
      "outputs": [
        {
          "output_type": "display_data",
          "data": {
            "text/html": [
              "\n",
              "     <input type=\"file\" id=\"files-3656323c-6ea2-4888-9acc-17feddc85d58\" name=\"files[]\" multiple disabled\n",
              "        style=\"border:none\" />\n",
              "     <output id=\"result-3656323c-6ea2-4888-9acc-17feddc85d58\">\n",
              "      Upload widget is only available when the cell has been executed in the\n",
              "      current browser session. Please rerun this cell to enable.\n",
              "      </output>\n",
              "      <script src=\"/nbextensions/google.colab/files.js\"></script> "
            ],
            "text/plain": [
              "<IPython.core.display.HTML object>"
            ]
          },
          "metadata": {
            "tags": []
          }
        },
        {
          "output_type": "stream",
          "text": [
            "Saving Google.csv to Google (3).csv\n"
          ],
          "name": "stdout"
        }
      ]
    },
    {
      "cell_type": "code",
      "metadata": {
        "id": "aBlY_gK5rmiO"
      },
      "source": [
        "import io"
      ],
      "execution_count": 148,
      "outputs": []
    },
    {
      "cell_type": "markdown",
      "metadata": {
        "id": "AiV4r86TKDkN"
      },
      "source": [
        "# **Importing Libraries**"
      ]
    },
    {
      "cell_type": "code",
      "metadata": {
        "id": "rVbHtcqrrpfu"
      },
      "source": [
        "import numpy as np\n",
        "import pandas as pd\n",
        "import matplotlib.pyplot as plt\n",
        "import seaborn as sns\n",
        "%matplotlib inline"
      ],
      "execution_count": 149,
      "outputs": []
    },
    {
      "cell_type": "code",
      "metadata": {
        "id": "sEVWGwWdrp6Y"
      },
      "source": [
        "df = pd.read_csv(io.BytesIO(uploaded['Google.csv']))"
      ],
      "execution_count": 150,
      "outputs": []
    },
    {
      "cell_type": "markdown",
      "metadata": {
        "id": "Gz-C8vreKLJo"
      },
      "source": [
        "# **Observing Data**"
      ]
    },
    {
      "cell_type": "code",
      "metadata": {
        "colab": {
          "base_uri": "https://localhost:8080/",
          "height": 297
        },
        "id": "EAnidevhrqEM",
        "outputId": "3aeabe71-3fd3-4e1f-d30e-1afc9884a70b"
      },
      "source": [
        "df.describe()\n",
        "#df.head()"
      ],
      "execution_count": 151,
      "outputs": [
        {
          "output_type": "execute_result",
          "data": {
            "text/html": [
              "<div>\n",
              "<style scoped>\n",
              "    .dataframe tbody tr th:only-of-type {\n",
              "        vertical-align: middle;\n",
              "    }\n",
              "\n",
              "    .dataframe tbody tr th {\n",
              "        vertical-align: top;\n",
              "    }\n",
              "\n",
              "    .dataframe thead th {\n",
              "        text-align: right;\n",
              "    }\n",
              "</style>\n",
              "<table border=\"1\" class=\"dataframe\">\n",
              "  <thead>\n",
              "    <tr style=\"text-align: right;\">\n",
              "      <th></th>\n",
              "      <th>Open</th>\n",
              "      <th>High</th>\n",
              "      <th>Low</th>\n",
              "      <th>Close</th>\n",
              "      <th>Adj Close</th>\n",
              "      <th>Volume</th>\n",
              "    </tr>\n",
              "  </thead>\n",
              "  <tbody>\n",
              "    <tr>\n",
              "      <th>count</th>\n",
              "      <td>4041.000000</td>\n",
              "      <td>4041.000000</td>\n",
              "      <td>4041.000000</td>\n",
              "      <td>4041.000000</td>\n",
              "      <td>4041.000000</td>\n",
              "      <td>4.041000e+03</td>\n",
              "    </tr>\n",
              "    <tr>\n",
              "      <th>mean</th>\n",
              "      <td>533.983149</td>\n",
              "      <td>538.995819</td>\n",
              "      <td>528.658860</td>\n",
              "      <td>533.999060</td>\n",
              "      <td>533.999060</td>\n",
              "      <td>6.909802e+06</td>\n",
              "    </tr>\n",
              "    <tr>\n",
              "      <th>std</th>\n",
              "      <td>383.007917</td>\n",
              "      <td>386.590237</td>\n",
              "      <td>379.488087</td>\n",
              "      <td>383.326004</td>\n",
              "      <td>383.326004</td>\n",
              "      <td>7.895987e+06</td>\n",
              "    </tr>\n",
              "    <tr>\n",
              "      <th>min</th>\n",
              "      <td>49.644646</td>\n",
              "      <td>50.920921</td>\n",
              "      <td>48.028027</td>\n",
              "      <td>50.055054</td>\n",
              "      <td>50.055054</td>\n",
              "      <td>5.206000e+05</td>\n",
              "    </tr>\n",
              "    <tr>\n",
              "      <th>25%</th>\n",
              "      <td>241.211212</td>\n",
              "      <td>243.688690</td>\n",
              "      <td>238.873871</td>\n",
              "      <td>241.036041</td>\n",
              "      <td>241.036041</td>\n",
              "      <td>1.844600e+06</td>\n",
              "    </tr>\n",
              "    <tr>\n",
              "      <th>50%</th>\n",
              "      <td>342.592590</td>\n",
              "      <td>345.795807</td>\n",
              "      <td>338.598602</td>\n",
              "      <td>342.177185</td>\n",
              "      <td>342.177185</td>\n",
              "      <td>4.191600e+06</td>\n",
              "    </tr>\n",
              "    <tr>\n",
              "      <th>75%</th>\n",
              "      <td>791.979980</td>\n",
              "      <td>798.000000</td>\n",
              "      <td>786.200012</td>\n",
              "      <td>790.460022</td>\n",
              "      <td>790.460022</td>\n",
              "      <td>8.702600e+06</td>\n",
              "    </tr>\n",
              "    <tr>\n",
              "      <th>max</th>\n",
              "      <td>1699.520020</td>\n",
              "      <td>1726.099976</td>\n",
              "      <td>1660.189941</td>\n",
              "      <td>1717.390015</td>\n",
              "      <td>1717.390015</td>\n",
              "      <td>8.215110e+07</td>\n",
              "    </tr>\n",
              "  </tbody>\n",
              "</table>\n",
              "</div>"
            ],
            "text/plain": [
              "              Open         High  ...    Adj Close        Volume\n",
              "count  4041.000000  4041.000000  ...  4041.000000  4.041000e+03\n",
              "mean    533.983149   538.995819  ...   533.999060  6.909802e+06\n",
              "std     383.007917   386.590237  ...   383.326004  7.895987e+06\n",
              "min      49.644646    50.920921  ...    50.055054  5.206000e+05\n",
              "25%     241.211212   243.688690  ...   241.036041  1.844600e+06\n",
              "50%     342.592590   345.795807  ...   342.177185  4.191600e+06\n",
              "75%     791.979980   798.000000  ...   790.460022  8.702600e+06\n",
              "max    1699.520020  1726.099976  ...  1717.390015  8.215110e+07\n",
              "\n",
              "[8 rows x 6 columns]"
            ]
          },
          "metadata": {
            "tags": []
          },
          "execution_count": 151
        }
      ]
    },
    {
      "cell_type": "markdown",
      "metadata": {
        "id": "oXj3flOPKSmk"
      },
      "source": [
        "# **Sorting on the basis of Date**"
      ]
    },
    {
      "cell_type": "code",
      "metadata": {
        "colab": {
          "base_uri": "https://localhost:8080/",
          "height": 204
        },
        "id": "ajouOR0SrqL0",
        "outputId": "68e7dc62-7a02-49db-c885-96f3c86e3a9b"
      },
      "source": [
        "df = df.sort_values('Date')\n",
        "df.tail()"
      ],
      "execution_count": 152,
      "outputs": [
        {
          "output_type": "execute_result",
          "data": {
            "text/html": [
              "<div>\n",
              "<style scoped>\n",
              "    .dataframe tbody tr th:only-of-type {\n",
              "        vertical-align: middle;\n",
              "    }\n",
              "\n",
              "    .dataframe tbody tr th {\n",
              "        vertical-align: top;\n",
              "    }\n",
              "\n",
              "    .dataframe thead th {\n",
              "        text-align: right;\n",
              "    }\n",
              "</style>\n",
              "<table border=\"1\" class=\"dataframe\">\n",
              "  <thead>\n",
              "    <tr style=\"text-align: right;\">\n",
              "      <th></th>\n",
              "      <th>Date</th>\n",
              "      <th>Open</th>\n",
              "      <th>High</th>\n",
              "      <th>Low</th>\n",
              "      <th>Close</th>\n",
              "      <th>Adj Close</th>\n",
              "      <th>Volume</th>\n",
              "    </tr>\n",
              "  </thead>\n",
              "  <tbody>\n",
              "    <tr>\n",
              "      <th>4036</th>\n",
              "      <td>2020-08-31</td>\n",
              "      <td>1643.569946</td>\n",
              "      <td>1644.500000</td>\n",
              "      <td>1625.329956</td>\n",
              "      <td>1629.530029</td>\n",
              "      <td>1629.530029</td>\n",
              "      <td>1321100</td>\n",
              "    </tr>\n",
              "    <tr>\n",
              "      <th>4037</th>\n",
              "      <td>2020-09-01</td>\n",
              "      <td>1632.160034</td>\n",
              "      <td>1659.219971</td>\n",
              "      <td>1629.530029</td>\n",
              "      <td>1655.079956</td>\n",
              "      <td>1655.079956</td>\n",
              "      <td>1133800</td>\n",
              "    </tr>\n",
              "    <tr>\n",
              "      <th>4038</th>\n",
              "      <td>2020-09-02</td>\n",
              "      <td>1668.010010</td>\n",
              "      <td>1726.099976</td>\n",
              "      <td>1660.189941</td>\n",
              "      <td>1717.390015</td>\n",
              "      <td>1717.390015</td>\n",
              "      <td>2476100</td>\n",
              "    </tr>\n",
              "    <tr>\n",
              "      <th>4039</th>\n",
              "      <td>2020-09-03</td>\n",
              "      <td>1699.520020</td>\n",
              "      <td>1700.000000</td>\n",
              "      <td>1607.709961</td>\n",
              "      <td>1629.510010</td>\n",
              "      <td>1629.510010</td>\n",
              "      <td>3180200</td>\n",
              "    </tr>\n",
              "    <tr>\n",
              "      <th>4040</th>\n",
              "      <td>2020-09-04</td>\n",
              "      <td>1609.000000</td>\n",
              "      <td>1634.989990</td>\n",
              "      <td>1537.970093</td>\n",
              "      <td>1581.209961</td>\n",
              "      <td>1581.209961</td>\n",
              "      <td>2792533</td>\n",
              "    </tr>\n",
              "  </tbody>\n",
              "</table>\n",
              "</div>"
            ],
            "text/plain": [
              "            Date         Open         High  ...        Close    Adj Close   Volume\n",
              "4036  2020-08-31  1643.569946  1644.500000  ...  1629.530029  1629.530029  1321100\n",
              "4037  2020-09-01  1632.160034  1659.219971  ...  1655.079956  1655.079956  1133800\n",
              "4038  2020-09-02  1668.010010  1726.099976  ...  1717.390015  1717.390015  2476100\n",
              "4039  2020-09-03  1699.520020  1700.000000  ...  1629.510010  1629.510010  3180200\n",
              "4040  2020-09-04  1609.000000  1634.989990  ...  1581.209961  1581.209961  2792533\n",
              "\n",
              "[5 rows x 7 columns]"
            ]
          },
          "metadata": {
            "tags": []
          },
          "execution_count": 152
        }
      ]
    },
    {
      "cell_type": "markdown",
      "metadata": {
        "id": "AZaMsA00KaAL"
      },
      "source": [
        "# **Plotting the Google Stock Price Data**"
      ]
    },
    {
      "cell_type": "code",
      "metadata": {
        "colab": {
          "base_uri": "https://localhost:8080/",
          "height": 559
        },
        "id": "eKsIIj6GrqSM",
        "outputId": "9bed7c83-a78e-4d1c-b3bb-b1b0848ae6bd"
      },
      "source": [
        "plt.figure(figsize = (18,9))\n",
        "plt.plot(range(df.shape[0]),df['Close'])\n",
        "plt.xticks(range(0,df.shape[0],500),df['Date'].loc[::500])\n",
        "plt.xlabel('Date',fontsize=18)\n",
        "plt.ylabel('Price',fontsize=18)\n",
        "plt.show()"
      ],
      "execution_count": 153,
      "outputs": [
        {
          "output_type": "display_data",
          "data": {
            "image/png": "[encoded data removed]",
            "text/plain": [
              "<Figure size 1296x648 with 1 Axes>"
            ]
          },
          "metadata": {
            "tags": [],
            "needs_background": "light"
          }
        }
      ]
    },
    {
      "cell_type": "code",
      "metadata": {
        "id": "aiK1msZBrqYR",
        "colab": {
          "base_uri": "https://localhost:8080/"
        },
        "outputId": "de4c046e-c302-419c-f654-0e90d6cb313e"
      },
      "source": [
        "df.shape"
      ],
      "execution_count": 154,
      "outputs": [
        {
          "output_type": "execute_result",
          "data": {
            "text/plain": [
              "(4041, 7)"
            ]
          },
          "metadata": {
            "tags": []
          },
          "execution_count": 154
        }
      ]
    },
    {
      "cell_type": "markdown",
      "metadata": {
        "id": "twqGCJ_AKn_k"
      },
      "source": [
        "# **Taking Closing Price of Stocks as Data**"
      ]
    },
    {
      "cell_type": "code",
      "metadata": {
        "id": "1KxSb3QhrqlG",
        "colab": {
          "base_uri": "https://localhost:8080/"
        },
        "outputId": "6657267b-ac0c-4d09-b0e8-26ffd14bc8ca"
      },
      "source": [
        "data = df.filter(['Close']).values\n",
        "data"
      ],
      "execution_count": 155,
      "outputs": [
        {
          "output_type": "execute_result",
          "data": {
            "text/plain": [
              "array([[  50.220219],\n",
              "       [  54.209209],\n",
              "       [  54.754753],\n",
              "       ...,\n",
              "       [1717.390015],\n",
              "       [1629.51001 ],\n",
              "       [1581.209961]])"
            ]
          },
          "metadata": {
            "tags": []
          },
          "execution_count": 155
        }
      ]
    },
    {
      "cell_type": "markdown",
      "metadata": {
        "id": "Pwc_coi5K7Hh"
      },
      "source": [
        "# **Scalilng the Data in range (0 , 1)**"
      ]
    },
    {
      "cell_type": "code",
      "metadata": {
        "colab": {
          "base_uri": "https://localhost:8080/"
        },
        "id": "DgkEeFRFaE2L",
        "outputId": "28330f5e-1779-47a4-dffa-f32c1fc4cf25"
      },
      "source": [
        "from sklearn.preprocessing import MinMaxScaler\n",
        "scaler = MinMaxScaler(feature_range = (0, 1))\n",
        "data_scaled = scaler.fit_transform(data)\n",
        "data_scaled"
      ],
      "execution_count": 156,
      "outputs": [
        {
          "output_type": "execute_result",
          "data": {
            "text/plain": [
              "array([[9.90592795e-05],\n",
              "       [2.49149397e-03],\n",
              "       [2.81868917e-03],\n",
              "       ...,\n",
              "       [1.00000000e+00],\n",
              "       [9.47293131e-01],\n",
              "       [9.18324717e-01]])"
            ]
          },
          "metadata": {
            "tags": []
          },
          "execution_count": 156
        }
      ]
    },
    {
      "cell_type": "code",
      "metadata": {
        "id": "OLDXTx0KaFY1"
      },
      "source": [
        "training_data_len = int(len(data)*0.80)\n",
        "#print(training_data_len)\n",
        "train_data = data_scaled[0 : training_data_len ,  :]\n",
        "\n",
        "#print(train_data.shape)\n",
        "#print(test_data.shape)"
      ],
      "execution_count": 157,
      "outputs": []
    },
    {
      "cell_type": "markdown",
      "metadata": {
        "id": "_a-OhETzLKNs"
      },
      "source": [
        "# **Creating X and Y Dataset**\n",
        "#### X will contain data of past 100 days and Y will contain the data of next day"
      ]
    },
    {
      "cell_type": "code",
      "metadata": {
        "colab": {
          "base_uri": "https://localhost:8080/"
        },
        "id": "R8AUOW12aFi8",
        "outputId": "e55b8220-0b1b-434a-e5d5-a3a33fbc0421"
      },
      "source": [
        "\n",
        "def creating_X_Y_Dataset(data) :\n",
        "      time_step = 100\n",
        "      xData = []\n",
        "      yData = []\n",
        "      for i in range(time_step , len(train_data)) :\n",
        "            xData.append(data[i-time_step : i , 0])\n",
        "            yData.append(data[i , 0])\n",
        "      return np.array(xData) , np.array(yData)\n",
        "\n",
        "x_train , y_train = creating_X_Y_Dataset(train_data)\n",
        "print(x_train.shape)\n",
        "y_train.shape"
      ],
      "execution_count": 158,
      "outputs": [
        {
          "output_type": "stream",
          "text": [
            "(3132, 100)\n"
          ],
          "name": "stdout"
        },
        {
          "output_type": "execute_result",
          "data": {
            "text/plain": [
              "(3132,)"
            ]
          },
          "metadata": {
            "tags": []
          },
          "execution_count": 158
        }
      ]
    },
    {
      "cell_type": "markdown",
      "metadata": {
        "id": "crZHUL_3LxPE"
      },
      "source": [
        "# **Reshaping the data**\n",
        "#### Data can not be fed into LSTM without reshaping it in 3D array/matrix"
      ]
    },
    {
      "cell_type": "code",
      "metadata": {
        "colab": {
          "base_uri": "https://localhost:8080/"
        },
        "id": "sHqa9hqUaFqo",
        "outputId": "bd57af6b-66a2-45e3-f024-af96c7896838"
      },
      "source": [
        "x_train = np.reshape(x_train , (x_train.shape[0] , x_train.shape[1] , -1))\n",
        "print(x_train.shape)\n",
        "y_train.shape"
      ],
      "execution_count": 159,
      "outputs": [
        {
          "output_type": "stream",
          "text": [
            "(3132, 100, 1)\n"
          ],
          "name": "stdout"
        },
        {
          "output_type": "execute_result",
          "data": {
            "text/plain": [
              "(3132,)"
            ]
          },
          "metadata": {
            "tags": []
          },
          "execution_count": 159
        }
      ]
    },
    {
      "cell_type": "markdown",
      "metadata": {
        "id": "fdUiJ2BZMNwo"
      },
      "source": [
        "# **Creating Model with Layers of LSTM**"
      ]
    },
    {
      "cell_type": "code",
      "metadata": {
        "colab": {
          "base_uri": "https://localhost:8080/"
        },
        "id": "V3PfEA91aFxf",
        "outputId": "fb31d99d-81a6-4efe-c8e6-d343706e7c94"
      },
      "source": [
        "from tensorflow.keras.models import Sequential\n",
        "from tensorflow.keras.layers import Dense\n",
        "from tensorflow.keras.layers import LSTM , Dropout\n",
        "\n",
        "model = Sequential()\n",
        "\n",
        "model.add(LSTM(units = 50, activation = \"relu\", return_sequences = True, input_shape = (x_train.shape[1], 1)))      # input shape is (number_of_time_steps , number_of_features)\n",
        "model.add(Dropout(rate = 0.1))\n",
        "\n",
        "model.add(LSTM(units = 50, activation = \"relu\", return_sequences = True, input_shape = (x_train.shape[1], 1)))\n",
        "model.add(Dropout(rate = 0.1))\n",
        "\n",
        "model.add(LSTM(units = 50, activation = \"relu\" , return_sequences = False))\n",
        "\n",
        "model.add(Dense(units = 1))\n",
        "\n",
        "model.compile(optimizer = \"adam\", loss = \"mean_squared_error\")\n",
        "\n",
        "model.summary()"
      ],
      "execution_count": 160,
      "outputs": [
        {
          "output_type": "stream",
          "text": [
            "Model: \"sequential_13\"\n",
            "_________________________________________________________________\n",
            "Layer (type)                 Output Shape              Param #   \n",
            "=================================================================\n",
            "lstm_30 (LSTM)               (None, 100, 50)           10400     \n",
            "_________________________________________________________________\n",
            "dropout_20 (Dropout)         (None, 100, 50)           0         \n",
            "_________________________________________________________________\n",
            "lstm_31 (LSTM)               (None, 100, 50)           20200     \n",
            "_________________________________________________________________\n",
            "dropout_21 (Dropout)         (None, 100, 50)           0         \n",
            "_________________________________________________________________\n",
            "lstm_32 (LSTM)               (None, 50)                20200     \n",
            "_________________________________________________________________\n",
            "dense_8 (Dense)              (None, 1)                 51        \n",
            "=================================================================\n",
            "Total params: 50,851\n",
            "Trainable params: 50,851\n",
            "Non-trainable params: 0\n",
            "_________________________________________________________________\n"
          ],
          "name": "stdout"
        }
      ]
    },
    {
      "cell_type": "markdown",
      "metadata": {
        "id": "aEpDzEvkMhhB"
      },
      "source": [
        "# **Fitting Training Data in the Model**"
      ]
    },
    {
      "cell_type": "code",
      "metadata": {
        "colab": {
          "base_uri": "https://localhost:8080/"
        },
        "id": "jPYdfUI9aF3t",
        "outputId": "5e554c94-d5d6-4426-8ff2-acf63976f142"
      },
      "source": [
        "model.fit(x_train , y_train , batch_size = 30 , epochs = 50 , verbose=1)"
      ],
      "execution_count": 161,
      "outputs": [
        {
          "output_type": "stream",
          "text": [
            "Epoch 1/50\n",
            "105/105 [==============================] - 17s 128ms/step - loss: 0.0143\n",
            "Epoch 2/50\n",
            "105/105 [==============================] - 14s 129ms/step - loss: 2.4152e-04\n",
            "Epoch 3/50\n",
            "105/105 [==============================] - 14s 129ms/step - loss: 2.0953e-04\n",
            "Epoch 4/50\n",
            "105/105 [==============================] - 14s 131ms/step - loss: 1.8924e-04\n",
            "Epoch 5/50\n",
            "105/105 [==============================] - 14s 130ms/step - loss: 1.6933e-04\n",
            "Epoch 6/50\n",
            "105/105 [==============================] - 14s 129ms/step - loss: 1.7877e-04\n",
            "Epoch 7/50\n",
            "105/105 [==============================] - 14s 130ms/step - loss: 1.7233e-04\n",
            "Epoch 8/50\n",
            "105/105 [==============================] - 14s 131ms/step - loss: 1.7897e-04\n",
            "Epoch 9/50\n",
            "105/105 [==============================] - 14s 131ms/step - loss: 1.6058e-04\n",
            "Epoch 10/50\n",
            "105/105 [==============================] - 14s 130ms/step - loss: 1.8177e-04\n",
            "Epoch 11/50\n",
            "105/105 [==============================] - 14s 130ms/step - loss: 1.7146e-04\n",
            "Epoch 12/50\n",
            "105/105 [==============================] - 14s 130ms/step - loss: 1.4005e-04\n",
            "Epoch 13/50\n",
            "105/105 [==============================] - 14s 131ms/step - loss: 1.4958e-04\n",
            "Epoch 14/50\n",
            "105/105 [==============================] - 14s 130ms/step - loss: 1.4269e-04\n",
            "Epoch 15/50\n",
            "105/105 [==============================] - 14s 130ms/step - loss: 1.5521e-04\n",
            "Epoch 16/50\n",
            "105/105 [==============================] - 14s 131ms/step - loss: 1.4336e-04\n",
            "Epoch 17/50\n",
            "105/105 [==============================] - 14s 131ms/step - loss: 1.1788e-04\n",
            "Epoch 18/50\n",
            "105/105 [==============================] - 14s 132ms/step - loss: 1.2421e-04\n",
            "Epoch 19/50\n",
            "105/105 [==============================] - 14s 132ms/step - loss: 1.3140e-04\n",
            "Epoch 20/50\n",
            "105/105 [==============================] - 14s 129ms/step - loss: 1.7914e-04\n",
            "Epoch 21/50\n",
            "105/105 [==============================] - 14s 130ms/step - loss: 1.3004e-04\n",
            "Epoch 22/50\n",
            "105/105 [==============================] - 14s 129ms/step - loss: 1.2604e-04\n",
            "Epoch 23/50\n",
            "105/105 [==============================] - 14s 130ms/step - loss: 1.1631e-04\n",
            "Epoch 24/50\n",
            "105/105 [==============================] - 14s 129ms/step - loss: 1.0690e-04\n",
            "Epoch 25/50\n",
            "105/105 [==============================] - 14s 129ms/step - loss: 1.0207e-04\n",
            "Epoch 26/50\n",
            "105/105 [==============================] - 14s 130ms/step - loss: 1.1124e-04\n",
            "Epoch 27/50\n",
            "105/105 [==============================] - 14s 131ms/step - loss: 1.2208e-04\n",
            "Epoch 28/50\n",
            "105/105 [==============================] - 14s 130ms/step - loss: 1.0581e-04\n",
            "Epoch 29/50\n",
            "105/105 [==============================] - 14s 130ms/step - loss: 1.2698e-04\n",
            "Epoch 30/50\n",
            "105/105 [==============================] - 14s 131ms/step - loss: 1.0815e-04\n",
            "Epoch 31/50\n",
            "105/105 [==============================] - 14s 130ms/step - loss: 1.2243e-04\n",
            "Epoch 32/50\n",
            "105/105 [==============================] - 14s 129ms/step - loss: 1.0678e-04\n",
            "Epoch 33/50\n",
            "105/105 [==============================] - 14s 129ms/step - loss: 1.1206e-04\n",
            "Epoch 34/50\n",
            "105/105 [==============================] - 14s 131ms/step - loss: 9.5737e-05\n",
            "Epoch 35/50\n",
            "105/105 [==============================] - 14s 131ms/step - loss: 1.2321e-04\n",
            "Epoch 36/50\n",
            "105/105 [==============================] - 14s 131ms/step - loss: 1.3113e-04\n",
            "Epoch 37/50\n",
            "105/105 [==============================] - 14s 132ms/step - loss: 1.0541e-04\n",
            "Epoch 38/50\n",
            "105/105 [==============================] - 14s 131ms/step - loss: 1.0074e-04\n",
            "Epoch 39/50\n",
            "105/105 [==============================] - 14s 131ms/step - loss: 9.5142e-05\n",
            "Epoch 40/50\n",
            "105/105 [==============================] - 14s 131ms/step - loss: 9.8001e-05\n",
            "Epoch 41/50\n",
            "105/105 [==============================] - 14s 132ms/step - loss: 9.1279e-05\n",
            "Epoch 42/50\n",
            "105/105 [==============================] - 14s 132ms/step - loss: 1.0333e-04\n",
            "Epoch 43/50\n",
            "105/105 [==============================] - 14s 131ms/step - loss: 9.1165e-05\n",
            "Epoch 44/50\n",
            "105/105 [==============================] - 14s 130ms/step - loss: 7.7410e-05\n",
            "Epoch 45/50\n",
            "105/105 [==============================] - 14s 130ms/step - loss: 9.5331e-05\n",
            "Epoch 46/50\n",
            "105/105 [==============================] - 14s 130ms/step - loss: 8.3334e-05\n",
            "Epoch 47/50\n",
            "105/105 [==============================] - 14s 130ms/step - loss: 7.2013e-05\n",
            "Epoch 48/50\n",
            "105/105 [==============================] - 14s 131ms/step - loss: 9.2471e-05\n",
            "Epoch 49/50\n",
            "105/105 [==============================] - 14s 130ms/step - loss: 8.1039e-05\n",
            "Epoch 50/50\n",
            "105/105 [==============================] - 14s 132ms/step - loss: 1.0320e-04\n"
          ],
          "name": "stdout"
        },
        {
          "output_type": "execute_result",
          "data": {
            "text/plain": [
              "<tensorflow.python.keras.callbacks.History at 0x7f4a14ad1050>"
            ]
          },
          "metadata": {
            "tags": []
          },
          "execution_count": 161
        }
      ]
    },
    {
      "cell_type": "code",
      "metadata": {
        "id": "q3Sew3LmaGHz"
      },
      "source": [
        ""
      ],
      "execution_count": null,
      "outputs": []
    },
    {
      "cell_type": "markdown",
      "metadata": {
        "id": "kANJxjWlMsav"
      },
      "source": [
        "# **Test Data Formation**"
      ]
    },
    {
      "cell_type": "code",
      "metadata": {
        "colab": {
          "base_uri": "https://localhost:8080/"
        },
        "id": "KfezS0u5aGM9",
        "outputId": "638f469d-4460-44ef-86e8-58132fd1b091"
      },
      "source": [
        "test_data = data_scaled[training_data_len-time_step : len(data_scaled) , : ]\n",
        "time_step = 100\n",
        "x_test = []\n",
        "y_test = data[training_data_len :  , :]\n",
        "for i in range(time_step , len(test_data)) :\n",
        "      x_test.append(test_data[i-time_step : i , 0])\n",
        "\n",
        "x_test = np.array(x_test)\n",
        "x_test.shape"
      ],
      "execution_count": 174,
      "outputs": [
        {
          "output_type": "execute_result",
          "data": {
            "text/plain": [
              "(809, 100)"
            ]
          },
          "metadata": {
            "tags": []
          },
          "execution_count": 174
        }
      ]
    },
    {
      "cell_type": "markdown",
      "metadata": {
        "id": "xZtYbghIMz88"
      },
      "source": [
        "# **Reshaping the Test data in 3D array**\n",
        "#### LSTM takes 3D array as input"
      ]
    },
    {
      "cell_type": "code",
      "metadata": {
        "colab": {
          "base_uri": "https://localhost:8080/"
        },
        "id": "nQIIc4jhaGSB",
        "outputId": "f6b5c3ef-7fce-4961-c9c2-e90a62ed42d7"
      },
      "source": [
        "x_test = np.reshape(x_test , (x_test.shape[0] , x_test.shape[1] , 1))\n",
        "print(x_test.shape)\n",
        "y_test.shape"
      ],
      "execution_count": 176,
      "outputs": [
        {
          "output_type": "stream",
          "text": [
            "(809, 100, 1)\n"
          ],
          "name": "stdout"
        },
        {
          "output_type": "execute_result",
          "data": {
            "text/plain": [
              "(809, 1)"
            ]
          },
          "metadata": {
            "tags": []
          },
          "execution_count": 176
        }
      ]
    },
    {
      "cell_type": "markdown",
      "metadata": {
        "id": "BC0xe26dNGKR"
      },
      "source": [
        "# **Predicting Values**\n",
        "#### Prediction done on x_test and then inverse_transform used to unscale it as it has to be compared with original data"
      ]
    },
    {
      "cell_type": "code",
      "metadata": {
        "id": "z4J81TCPrqrj",
        "colab": {
          "base_uri": "https://localhost:8080/"
        },
        "outputId": "2f047227-b398-4f9c-c1a9-d312a8b0142e"
      },
      "source": [
        "scaled_predict = model.predict(x_test)\n",
        "predict = scaler.inverse_transform(scaled_predict)\n",
        "predict"
      ],
      "execution_count": 177,
      "outputs": [
        {
          "output_type": "execute_result",
          "data": {
            "text/plain": [
              "array([[ 943.7383 ],\n",
              "       [ 945.3135 ],\n",
              "       [ 947.5098 ],\n",
              "       [ 950.727  ],\n",
              "       [ 952.57935],\n",
              "       [ 950.8197 ],\n",
              "       [ 948.0608 ],\n",
              "       [ 943.111  ],\n",
              "       [ 936.7079 ],\n",
              "       [ 929.339  ],\n",
              "       [ 923.30426],\n",
              "       [ 918.5911 ],\n",
              "       [ 916.5051 ],\n",
              "       [ 917.41925],\n",
              "       [ 920.52313],\n",
              "       [ 925.9168 ],\n",
              "       [ 932.15796],\n",
              "       [ 938.68365],\n",
              "       [ 944.19214],\n",
              "       [ 949.2692 ],\n",
              "       [ 953.98676],\n",
              "       [ 957.72974],\n",
              "       [ 960.4382 ],\n",
              "       [ 962.6017 ],\n",
              "       [ 961.3949 ],\n",
              "       [ 957.7873 ],\n",
              "       [ 952.105  ],\n",
              "       [ 946.42474],\n",
              "       [ 940.61206],\n",
              "       [ 935.53735],\n",
              "       [ 931.7409 ],\n",
              "       [ 928.6468 ],\n",
              "       [ 926.8205 ],\n",
              "       [ 926.0343 ],\n",
              "       [ 925.76776],\n",
              "       [ 925.3685 ],\n",
              "       [ 923.3066 ],\n",
              "       [ 920.8341 ],\n",
              "       [ 919.24   ],\n",
              "       [ 918.39813],\n",
              "       [ 918.6879 ],\n",
              "       [ 918.0828 ],\n",
              "       [ 916.6422 ],\n",
              "       [ 914.3136 ],\n",
              "       [ 913.4406 ],\n",
              "       [ 914.06714],\n",
              "       [ 915.0305 ],\n",
              "       [ 915.264  ],\n",
              "       [ 914.67645],\n",
              "       [ 914.2975 ],\n",
              "       [ 915.04694],\n",
              "       [ 917.7809 ],\n",
              "       [ 921.1348 ],\n",
              "       [ 923.1241 ],\n",
              "       [ 923.7839 ],\n",
              "       [ 924.33484],\n",
              "       [ 924.02997],\n",
              "       [ 923.38794],\n",
              "       [ 922.98773],\n",
              "       [ 923.2226 ],\n",
              "       [ 922.91583],\n",
              "       [ 921.7668 ],\n",
              "       [ 919.7091 ],\n",
              "       [ 917.99426],\n",
              "       [ 917.7923 ],\n",
              "       [ 918.80273],\n",
              "       [ 920.0133 ],\n",
              "       [ 920.1451 ],\n",
              "       [ 919.77875],\n",
              "       [ 921.5053 ],\n",
              "       [ 925.1646 ],\n",
              "       [ 930.5288 ],\n",
              "       [ 935.5014 ],\n",
              "       [ 939.79376],\n",
              "       [ 942.3959 ],\n",
              "       [ 945.4851 ],\n",
              "       [ 949.6001 ],\n",
              "       [ 953.7388 ],\n",
              "       [ 956.73535],\n",
              "       [ 960.47675],\n",
              "       [ 964.361  ],\n",
              "       [ 968.0447 ],\n",
              "       [ 971.249  ],\n",
              "       [ 973.89954],\n",
              "       [ 976.07117],\n",
              "       [ 976.7137 ],\n",
              "       [ 976.64264],\n",
              "       [ 974.3944 ],\n",
              "       [ 971.3406 ],\n",
              "       [ 968.5665 ],\n",
              "       [ 966.4665 ],\n",
              "       [ 969.03424],\n",
              "       [ 974.9836 ],\n",
              "       [ 982.32733],\n",
              "       [ 990.39514],\n",
              "       [ 997.68524],\n",
              "       [1004.0565 ],\n",
              "       [1008.03186],\n",
              "       [1010.94714],\n",
              "       [1013.58716],\n",
              "       [1014.8196 ],\n",
              "       [1014.69824],\n",
              "       [1013.5656 ],\n",
              "       [1012.0643 ],\n",
              "       [1010.1469 ],\n",
              "       [1009.4536 ],\n",
              "       [1008.58014],\n",
              "       [1007.56946],\n",
              "       [1008.119  ],\n",
              "       [1009.9035 ],\n",
              "       [1012.6969 ],\n",
              "       [1017.4116 ],\n",
              "       [1021.7674 ],\n",
              "       [1022.58325],\n",
              "       [1020.8547 ],\n",
              "       [1016.741  ],\n",
              "       [1010.5403 ],\n",
              "       [1004.62463],\n",
              "       [1000.9802 ],\n",
              "       [1000.52716],\n",
              "       [1002.7546 ],\n",
              "       [1006.65674],\n",
              "       [1010.6384 ],\n",
              "       [1014.20166],\n",
              "       [1017.54663],\n",
              "       [1021.8874 ],\n",
              "       [1027.7844 ],\n",
              "       [1033.1865 ],\n",
              "       [1036.6882 ],\n",
              "       [1038.2723 ],\n",
              "       [1038.3395 ],\n",
              "       [1037.2496 ],\n",
              "       [1035.1013 ],\n",
              "       [1032.232  ],\n",
              "       [1029.119  ],\n",
              "       [1028.2754 ],\n",
              "       [1030.8661 ],\n",
              "       [1035.9626 ],\n",
              "       [1043.6176 ],\n",
              "       [1052.283  ],\n",
              "       [1059.9535 ],\n",
              "       [1065.3368 ],\n",
              "       [1068.8169 ],\n",
              "       [1072.6204 ],\n",
              "       [1076.2899 ],\n",
              "       [1080.323  ],\n",
              "       [1083.8339 ],\n",
              "       [1087.3591 ],\n",
              "       [1092.5989 ],\n",
              "       [1099.6373 ],\n",
              "       [1106.4131 ],\n",
              "       [1113.236  ],\n",
              "       [1119.7845 ],\n",
              "       [1125.2544 ],\n",
              "       [1128.4519 ],\n",
              "       [1130.3351 ],\n",
              "       [1131.1968 ],\n",
              "       [1125.2991 ],\n",
              "       [1111.7831 ],\n",
              "       [1097.3059 ],\n",
              "       [1081.92   ],\n",
              "       [1064.2616 ],\n",
              "       [1050.4207 ],\n",
              "       [1041.3121 ],\n",
              "       [1036.0663 ],\n",
              "       [1035.296  ],\n",
              "       [1038.9011 ],\n",
              "       [1045.2622 ],\n",
              "       [1053.1946 ],\n",
              "       [1061.7081 ],\n",
              "       [1068.3894 ],\n",
              "       [1074.5669 ],\n",
              "       [1081.1592 ],\n",
              "       [1084.2416 ],\n",
              "       [1083.3156 ],\n",
              "       [1076.9102 ],\n",
              "       [1069.2585 ],\n",
              "       [1062.9706 ],\n",
              "       [1059.2471 ],\n",
              "       [1059.2152 ],\n",
              "       [1062.8942 ],\n",
              "       [1071.6722 ],\n",
              "       [1083.3666 ],\n",
              "       [1092.0157 ],\n",
              "       [1098.2114 ],\n",
              "       [1102.274  ],\n",
              "       [1102.959  ],\n",
              "       [1098.0981 ],\n",
              "       [1090.1819 ],\n",
              "       [1081.4458 ],\n",
              "       [1070.0228 ],\n",
              "       [1056.4092 ],\n",
              "       [1045.4716 ],\n",
              "       [1033.6533 ],\n",
              "       [1022.4603 ],\n",
              "       [1015.5502 ],\n",
              "       [1010.1478 ],\n",
              "       [1006.63794],\n",
              "       [1005.505  ],\n",
              "       [1006.0715 ],\n",
              "       [1005.13416],\n",
              "       [1003.8687 ],\n",
              "       [1003.92096],\n",
              "       [1003.69104],\n",
              "       [1004.3089 ],\n",
              "       [1005.19006],\n",
              "       [1007.0017 ],\n",
              "       [1012.66095],\n",
              "       [1019.8436 ],\n",
              "       [1028.375  ],\n",
              "       [1034.971  ],\n",
              "       [1038.7677 ],\n",
              "       [1035.4276 ],\n",
              "       [1028.1423 ],\n",
              "       [1021.35986],\n",
              "       [1014.98486],\n",
              "       [1008.6741 ],\n",
              "       [1005.2503 ],\n",
              "       [1002.9263 ],\n",
              "       [1001.49304],\n",
              "       [1002.95807],\n",
              "       [1007.1579 ],\n",
              "       [1012.5121 ],\n",
              "       [1020.93896],\n",
              "       [1031.9957 ],\n",
              "       [1042.8741 ],\n",
              "       [1052.0911 ],\n",
              "       [1056.2968 ],\n",
              "       [1056.7902 ],\n",
              "       [1054.8809 ],\n",
              "       [1050.7277 ],\n",
              "       [1047.2292 ],\n",
              "       [1043.9977 ],\n",
              "       [1042.5416 ],\n",
              "       [1042.4962 ],\n",
              "       [1043.2422 ],\n",
              "       [1042.8108 ],\n",
              "       [1042.5167 ],\n",
              "       [1044.6105 ],\n",
              "       [1051.566  ],\n",
              "       [1063.0061 ],\n",
              "       [1075.6156 ],\n",
              "       [1086.3179 ],\n",
              "       [1092.5342 ],\n",
              "       [1095.0293 ],\n",
              "       [1095.9432 ],\n",
              "       [1096.6392 ],\n",
              "       [1096.8904 ],\n",
              "       [1098.5499 ],\n",
              "       [1100.9636 ],\n",
              "       [1106.0906 ],\n",
              "       [1111.8733 ],\n",
              "       [1117.857  ],\n",
              "       [1121.7024 ],\n",
              "       [1123.6536 ],\n",
              "       [1121.162  ],\n",
              "       [1115.5624 ],\n",
              "       [1107.594  ],\n",
              "       [1100.3538 ],\n",
              "       [1094.91   ],\n",
              "       [1092.762  ],\n",
              "       [1090.5122 ],\n",
              "       [1090.795  ],\n",
              "       [1093.9731 ],\n",
              "       [1099.691  ],\n",
              "       [1106.1902 ],\n",
              "       [1112.5558 ],\n",
              "       [1121.0126 ],\n",
              "       [1129.9397 ],\n",
              "       [1136.9427 ],\n",
              "       [1143.4863 ],\n",
              "       [1148.9069 ],\n",
              "       [1151.4949 ],\n",
              "       [1151.8657 ],\n",
              "       [1152.2567 ],\n",
              "       [1157.5118 ],\n",
              "       [1167.0801 ],\n",
              "       [1179.2231 ],\n",
              "       [1187.9939 ],\n",
              "       [1191.0127 ],\n",
              "       [1189.7363 ],\n",
              "       [1186.6311 ],\n",
              "       [1183.9423 ],\n",
              "       [1181.842  ],\n",
              "       [1180.5498 ],\n",
              "       [1182.0195 ],\n",
              "       [1185.6663 ],\n",
              "       [1190.493  ],\n",
              "       [1194.0334 ],\n",
              "       [1195.795  ],\n",
              "       [1197.2012 ],\n",
              "       [1195.4294 ],\n",
              "       [1191.1151 ],\n",
              "       [1185.0498 ],\n",
              "       [1179.5472 ],\n",
              "       [1174.8284 ],\n",
              "       [1171.8285 ],\n",
              "       [1170.2891 ],\n",
              "       [1171.5099 ],\n",
              "       [1176.1298 ],\n",
              "       [1181.1268 ],\n",
              "       [1187.5171 ],\n",
              "       [1192.6458 ],\n",
              "       [1193.8082 ],\n",
              "       [1190.2161 ],\n",
              "       [1183.0278 ],\n",
              "       [1173.4568 ],\n",
              "       [1163.2634 ],\n",
              "       [1154.0051 ],\n",
              "       [1147.969  ],\n",
              "       [1143.0007 ],\n",
              "       [1140.3846 ],\n",
              "       [1139.0323 ],\n",
              "       [1136.6414 ],\n",
              "       [1134.4048 ],\n",
              "       [1133.1824 ],\n",
              "       [1134.4589 ],\n",
              "       [1134.9716 ],\n",
              "       [1135.5017 ],\n",
              "       [1137.3442 ],\n",
              "       [1139.7069 ],\n",
              "       [1143.3739 ],\n",
              "       [1147.2551 ],\n",
              "       [1150.8258 ],\n",
              "       [1153.5742 ],\n",
              "       [1155.8068 ],\n",
              "       [1153.8724 ],\n",
              "       [1148.6333 ],\n",
              "       [1141.0824 ],\n",
              "       [1132.319  ],\n",
              "       [1119.6367 ],\n",
              "       [1106.1127 ],\n",
              "       [1096.535  ],\n",
              "       [1089.0432 ],\n",
              "       [1086.3177 ],\n",
              "       [1086.4739 ],\n",
              "       [1085.3281 ],\n",
              "       [1083.7682 ],\n",
              "       [1082.4955 ],\n",
              "       [1081.7795 ],\n",
              "       [1075.8542 ],\n",
              "       [1071.459  ],\n",
              "       [1066.8081 ],\n",
              "       [1058.2072 ],\n",
              "       [1049.3269 ],\n",
              "       [1044.9904 ],\n",
              "       [1044.0088 ],\n",
              "       [1043.7883 ],\n",
              "       [1042.302  ],\n",
              "       [1041.2345 ],\n",
              "       [1044.1693 ],\n",
              "       [1048.1815 ],\n",
              "       [1050.3442 ],\n",
              "       [1048.1295 ],\n",
              "       [1043.1443 ],\n",
              "       [1037.719  ],\n",
              "       [1034.4639 ],\n",
              "       [1032.9092 ],\n",
              "       [1028.7236 ],\n",
              "       [1023.4911 ],\n",
              "       [1019.4718 ],\n",
              "       [1015.60175],\n",
              "       [1014.6511 ],\n",
              "       [1015.38367],\n",
              "       [1020.8731 ],\n",
              "       [1029.3427 ],\n",
              "       [1040.0571 ],\n",
              "       [1051.324  ],\n",
              "       [1054.9971 ],\n",
              "       [1054.8354 ],\n",
              "       [1049.529  ],\n",
              "       [1042.4641 ],\n",
              "       [1036.1824 ],\n",
              "       [1032.6226 ],\n",
              "       [1031.4756 ],\n",
              "       [1029.866  ],\n",
              "       [1025.591  ],\n",
              "       [1021.69995],\n",
              "       [1017.9307 ],\n",
              "       [1013.6194 ],\n",
              "       [1006.60077],\n",
              "       [ 998.06744],\n",
              "       [ 994.88763],\n",
              "       [ 996.4337 ],\n",
              "       [1000.52655],\n",
              "       [1005.3726 ],\n",
              "       [1010.83484],\n",
              "       [1012.6172 ],\n",
              "       [1016.99884],\n",
              "       [1022.61035],\n",
              "       [1029.2004 ],\n",
              "       [1034.907  ],\n",
              "       [1038.7867 ],\n",
              "       [1039.6196 ],\n",
              "       [1037.2607 ],\n",
              "       [1036.6324 ],\n",
              "       [1037.8069 ],\n",
              "       [1041.0631 ],\n",
              "       [1046.1412 ],\n",
              "       [1048.8033 ],\n",
              "       [1050.0447 ],\n",
              "       [1050.2532 ],\n",
              "       [1051.5762 ],\n",
              "       [1051.4686 ],\n",
              "       [1049.4666 ],\n",
              "       [1049.2733 ],\n",
              "       [1053.0665 ],\n",
              "       [1058.5278 ],\n",
              "       [1066.7574 ],\n",
              "       [1076.8652 ],\n",
              "       [1083.1836 ],\n",
              "       [1084.502  ],\n",
              "       [1082.2847 ],\n",
              "       [1078.1907 ],\n",
              "       [1076.1683 ],\n",
              "       [1076.1434 ],\n",
              "       [1077.5614 ],\n",
              "       [1078.7421 ],\n",
              "       [1080.2604 ],\n",
              "       [1081.2266 ],\n",
              "       [1080.0732 ],\n",
              "       [1078.921  ],\n",
              "       [1078.088  ],\n",
              "       [1078.0961 ],\n",
              "       [1078.7606 ],\n",
              "       [1080.1179 ],\n",
              "       [1083.9452 ],\n",
              "       [1089.3809 ],\n",
              "       [1096.7023 ],\n",
              "       [1103.7178 ],\n",
              "       [1108.0568 ],\n",
              "       [1110.0591 ],\n",
              "       [1113.2781 ],\n",
              "       [1118.8374 ],\n",
              "       [1125.446  ],\n",
              "       [1131.1947 ],\n",
              "       [1135.394  ],\n",
              "       [1137.8966 ],\n",
              "       [1140.4866 ],\n",
              "       [1145.4111 ],\n",
              "       [1152.3053 ],\n",
              "       [1156.595  ],\n",
              "       [1157.5747 ],\n",
              "       [1155.5839 ],\n",
              "       [1150.882  ],\n",
              "       [1144.7406 ],\n",
              "       [1139.196  ],\n",
              "       [1137.3348 ],\n",
              "       [1138.8091 ],\n",
              "       [1142.7289 ],\n",
              "       [1148.4688 ],\n",
              "       [1153.5917 ],\n",
              "       [1157.1785 ],\n",
              "       [1158.6606 ],\n",
              "       [1158.9711 ],\n",
              "       [1158.8458 ],\n",
              "       [1159.9203 ],\n",
              "       [1162.0822 ],\n",
              "       [1165.2356 ],\n",
              "       [1169.4531 ],\n",
              "       [1173.8822 ],\n",
              "       [1179.123  ],\n",
              "       [1185.9395 ],\n",
              "       [1191.6624 ],\n",
              "       [1196.6688 ],\n",
              "       [1201.6051 ],\n",
              "       [1207.8926 ],\n",
              "       [1204.2676 ],\n",
              "       [1193.1721 ],\n",
              "       [1178.7676 ],\n",
              "       [1166.53   ],\n",
              "       [1157.809  ],\n",
              "       [1151.0835 ],\n",
              "       [1145.6106 ],\n",
              "       [1141.3228 ],\n",
              "       [1138.1292 ],\n",
              "       [1132.7435 ],\n",
              "       [1125.353  ],\n",
              "       [1121.9141 ],\n",
              "       [1122.6382 ],\n",
              "       [1124.341  ],\n",
              "       [1123.6431 ],\n",
              "       [1122.2457 ],\n",
              "       [1120.6257 ],\n",
              "       [1117.9493 ],\n",
              "       [1114.2019 ],\n",
              "       [1110.3403 ],\n",
              "       [1104.9231 ],\n",
              "       [1099.4386 ],\n",
              "       [1093.2787 ],\n",
              "       [1081.7958 ],\n",
              "       [1069.5701 ],\n",
              "       [1057.6302 ],\n",
              "       [1047.6747 ],\n",
              "       [1041.8035 ],\n",
              "       [1040.4933 ],\n",
              "       [1041.9734 ],\n",
              "       [1044.6195 ],\n",
              "       [1048.4259 ],\n",
              "       [1051.8008 ],\n",
              "       [1054.9572 ],\n",
              "       [1058.5441 ],\n",
              "       [1061.7634 ],\n",
              "       [1065.0986 ],\n",
              "       [1069.2665 ],\n",
              "       [1072.527  ],\n",
              "       [1071.8777 ],\n",
              "       [1068.0244 ],\n",
              "       [1062.3538 ],\n",
              "       [1057.0177 ],\n",
              "       [1054.5474 ],\n",
              "       [1055.5984 ],\n",
              "       [1059.7518 ],\n",
              "       [1066.3668 ],\n",
              "       [1071.871  ],\n",
              "       [1076.5262 ],\n",
              "       [1081.6866 ],\n",
              "       [1086.8422 ],\n",
              "       [1091.432  ],\n",
              "       [1095.5885 ],\n",
              "       [1099.2788 ],\n",
              "       [1101.556  ],\n",
              "       [1102.7244 ],\n",
              "       [1101.5405 ],\n",
              "       [1099.8566 ],\n",
              "       [1099.1334 ],\n",
              "       [1098.4271 ],\n",
              "       [1097.4974 ],\n",
              "       [1106.4316 ],\n",
              "       [1121.7788 ],\n",
              "       [1137.637  ],\n",
              "       [1149.8882 ],\n",
              "       [1157.3136 ],\n",
              "       [1159.2278 ],\n",
              "       [1153.5739 ],\n",
              "       [1145.8341 ],\n",
              "       [1138.5986 ],\n",
              "       [1135.9242 ],\n",
              "       [1135.0826 ],\n",
              "       [1134.061  ],\n",
              "       [1135.3536 ],\n",
              "       [1134.5315 ],\n",
              "       [1132.9297 ],\n",
              "       [1132.0817 ],\n",
              "       [1134.0765 ],\n",
              "       [1135.8215 ],\n",
              "       [1137.9031 ],\n",
              "       [1139.8395 ],\n",
              "       [1137.5017 ],\n",
              "       [1134.504  ],\n",
              "       [1131.5457 ],\n",
              "       [1129.4366 ],\n",
              "       [1130.3535 ],\n",
              "       [1132.6948 ],\n",
              "       [1133.3429 ],\n",
              "       [1134.0469 ],\n",
              "       [1137.7606 ],\n",
              "       [1142.3195 ],\n",
              "       [1146.5984 ],\n",
              "       [1150.098  ],\n",
              "       [1154.0751 ],\n",
              "       [1159.3976 ],\n",
              "       [1165.3896 ],\n",
              "       [1170.1179 ],\n",
              "       [1173.209  ],\n",
              "       [1175.1516 ],\n",
              "       [1176.8104 ],\n",
              "       [1177.2227 ],\n",
              "       [1177.4281 ],\n",
              "       [1175.8396 ],\n",
              "       [1176.4098 ],\n",
              "       [1177.9707 ],\n",
              "       [1178.2487 ],\n",
              "       [1177.1821 ],\n",
              "       [1173.8455 ],\n",
              "       [1166.856  ],\n",
              "       [1159.8855 ],\n",
              "       [1156.0806 ],\n",
              "       [1154.6881 ],\n",
              "       [1153.0696 ],\n",
              "       [1152.7191 ],\n",
              "       [1153.8759 ],\n",
              "       [1156.3876 ],\n",
              "       [1159.5005 ],\n",
              "       [1164.9979 ],\n",
              "       [1171.2327 ],\n",
              "       [1177.9854 ],\n",
              "       [1183.1837 ],\n",
              "       [1186.6078 ],\n",
              "       [1188.0894 ],\n",
              "       [1189.9087 ],\n",
              "       [1191.946  ],\n",
              "       [1194.4972 ],\n",
              "       [1199.7395 ],\n",
              "       [1202.915  ],\n",
              "       [1204.3834 ],\n",
              "       [1204.406  ],\n",
              "       [1205.0793 ],\n",
              "       [1208.0457 ],\n",
              "       [1212.2911 ],\n",
              "       [1216.709  ],\n",
              "       [1222.3369 ],\n",
              "       [1228.1239 ],\n",
              "       [1231.9961 ],\n",
              "       [1234.0112 ],\n",
              "       [1234.5104 ],\n",
              "       [1235.522  ],\n",
              "       [1239.494  ],\n",
              "       [1243.2764 ],\n",
              "       [1245.6575 ],\n",
              "       [1245.6622 ],\n",
              "       [1244.0768 ],\n",
              "       [1241.1208 ],\n",
              "       [1239.2036 ],\n",
              "       [1239.1115 ],\n",
              "       [1240.1362 ],\n",
              "       [1240.8457 ],\n",
              "       [1239.5806 ],\n",
              "       [1237.9413 ],\n",
              "       [1238.9801 ],\n",
              "       [1242.4006 ],\n",
              "       [1248.1423 ],\n",
              "       [1254.8185 ],\n",
              "       [1261.0015 ],\n",
              "       [1266.0616 ],\n",
              "       [1270.11   ],\n",
              "       [1272.7014 ],\n",
              "       [1275.6274 ],\n",
              "       [1277.6768 ],\n",
              "       [1278.6614 ],\n",
              "       [1279.443  ],\n",
              "       [1279.475  ],\n",
              "       [1279.0868 ],\n",
              "       [1277.8892 ],\n",
              "       [1278.5082 ],\n",
              "       [1279.2943 ],\n",
              "       [1278.4725 ],\n",
              "       [1276.8008 ],\n",
              "       [1278.1752 ],\n",
              "       [1280.3748 ],\n",
              "       [1286.6597 ],\n",
              "       [1294.3778 ],\n",
              "       [1303.0458 ],\n",
              "       [1312.6425 ],\n",
              "       [1322.3514 ],\n",
              "       [1331.902  ],\n",
              "       [1338.7175 ],\n",
              "       [1343.8345 ],\n",
              "       [1348.3943 ],\n",
              "       [1355.5332 ],\n",
              "       [1363.5259 ],\n",
              "       [1371.1252 ],\n",
              "       [1377.498  ],\n",
              "       [1380.114  ],\n",
              "       [1376.1956 ],\n",
              "       [1371.2358 ],\n",
              "       [1367.1204 ],\n",
              "       [1364.0419 ],\n",
              "       [1359.8105 ],\n",
              "       [1361.3856 ],\n",
              "       [1361.8445 ],\n",
              "       [1361.8677 ],\n",
              "       [1365.0925 ],\n",
              "       [1369.9985 ],\n",
              "       [1378.6069 ],\n",
              "       [1388.2806 ],\n",
              "       [1398.0991 ],\n",
              "       [1405.7815 ],\n",
              "       [1411.5809 ],\n",
              "       [1415.3622 ],\n",
              "       [1417.9899 ],\n",
              "       [1418.6335 ],\n",
              "       [1414.1567 ],\n",
              "       [1401.4116 ],\n",
              "       [1383.4532 ],\n",
              "       [1366.0122 ],\n",
              "       [1344.9104 ],\n",
              "       [1326.9886 ],\n",
              "       [1317.0353 ],\n",
              "       [1308.3533 ],\n",
              "       [1305.5259 ],\n",
              "       [1299.5892 ],\n",
              "       [1290.7004 ],\n",
              "       [1274.0618 ],\n",
              "       [1260.1294 ],\n",
              "       [1243.5566 ],\n",
              "       [1219.7253 ],\n",
              "       [1203.0297 ],\n",
              "       [1180.4788 ],\n",
              "       [1160.7612 ],\n",
              "       [1142.374  ],\n",
              "       [1128.2537 ],\n",
              "       [1114.245  ],\n",
              "       [1100.1952 ],\n",
              "       [1093.4263 ],\n",
              "       [1089.5923 ],\n",
              "       [1092.6156 ],\n",
              "       [1094.4747 ],\n",
              "       [1098.2789 ],\n",
              "       [1104.1465 ],\n",
              "       [1103.8506 ],\n",
              "       [1100.9406 ],\n",
              "       [1094.1459 ],\n",
              "       [1094.4122 ],\n",
              "       [1099.4261 ],\n",
              "       [1109.4058 ],\n",
              "       [1121.3298 ],\n",
              "       [1132.9869 ],\n",
              "       [1148.8378 ],\n",
              "       [1164.4263 ],\n",
              "       [1177.0485 ],\n",
              "       [1188.4686 ],\n",
              "       [1195.6995 ],\n",
              "       [1194.3513 ],\n",
              "       [1192.5969 ],\n",
              "       [1192.6149 ],\n",
              "       [1194.6908 ],\n",
              "       [1197.3589 ],\n",
              "       [1196.0521 ],\n",
              "       [1203.5873 ],\n",
              "       [1216.3844 ],\n",
              "       [1228.0277 ],\n",
              "       [1237.8599 ],\n",
              "       [1248.0488 ],\n",
              "       [1256.5867 ],\n",
              "       [1265.6471 ],\n",
              "       [1275.5099 ],\n",
              "       [1286.7709 ],\n",
              "       [1293.9753 ],\n",
              "       [1294.8489 ],\n",
              "       [1292.6544 ],\n",
              "       [1290.8232 ],\n",
              "       [1291.1565 ],\n",
              "       [1291.7351 ],\n",
              "       [1296.517  ],\n",
              "       [1303.0479 ],\n",
              "       [1310.5426 ],\n",
              "       [1318.4474 ],\n",
              "       [1325.2313 ],\n",
              "       [1330.0275 ],\n",
              "       [1334.6702 ],\n",
              "       [1338.6475 ],\n",
              "       [1342.5698 ],\n",
              "       [1345.5603 ],\n",
              "       [1344.8401 ],\n",
              "       [1344.9847 ],\n",
              "       [1346.5908 ],\n",
              "       [1349.4548 ],\n",
              "       [1354.2632 ],\n",
              "       [1352.3905 ],\n",
              "       [1348.1837 ],\n",
              "       [1343.9514 ],\n",
              "       [1343.4337 ],\n",
              "       [1346.0225 ],\n",
              "       [1347.977  ],\n",
              "       [1348.2572 ],\n",
              "       [1350.4536 ],\n",
              "       [1354.9564 ],\n",
              "       [1356.5336 ],\n",
              "       [1357.1239 ],\n",
              "       [1348.5085 ],\n",
              "       [1340.0574 ],\n",
              "       [1334.671  ],\n",
              "       [1334.5563 ],\n",
              "       [1340.573  ],\n",
              "       [1352.8223 ],\n",
              "       [1366.3342 ],\n",
              "       [1380.2062 ],\n",
              "       [1393.7267 ],\n",
              "       [1407.1886 ],\n",
              "       [1415.2301 ],\n",
              "       [1419.7935 ],\n",
              "       [1420.9661 ],\n",
              "       [1419.7617 ],\n",
              "       [1417.6775 ],\n",
              "       [1421.0878 ],\n",
              "       [1426.3284 ],\n",
              "       [1433.2314 ],\n",
              "       [1434.4655 ],\n",
              "       [1431.2875 ],\n",
              "       [1428.3904 ],\n",
              "       [1423.0983 ],\n",
              "       [1419.6775 ],\n",
              "       [1419.6213 ],\n",
              "       [1415.7883 ],\n",
              "       [1410.2014 ],\n",
              "       [1403.4431 ],\n",
              "       [1397.6217 ],\n",
              "       [1395.9012 ],\n",
              "       [1396.1312 ],\n",
              "       [1397.4248 ],\n",
              "       [1397.2472 ],\n",
              "       [1399.2544 ],\n",
              "       [1403.1475 ],\n",
              "       [1406.1141 ],\n",
              "       [1409.4127 ],\n",
              "       [1416.9259 ],\n",
              "       [1424.3197 ],\n",
              "       [1434.4637 ],\n",
              "       [1444.3767 ],\n",
              "       [1453.808  ],\n",
              "       [1463.885  ],\n",
              "       [1477.2972 ],\n",
              "       [1488.6744 ],\n",
              "       [1498.5719 ],\n",
              "       [1504.6997 ],\n",
              "       [1510.8015 ],\n",
              "       [1523.2235 ],\n",
              "       [1526.5847 ]], dtype=float32)"
            ]
          },
          "metadata": {
            "tags": []
          },
          "execution_count": 177
        }
      ]
    },
    {
      "cell_type": "markdown",
      "metadata": {
        "id": "X3vqXAvJNnWX"
      },
      "source": [
        "# **Root Mean Squared Error Between Actual And Predicted Values**"
      ]
    },
    {
      "cell_type": "code",
      "metadata": {
        "id": "2MBfUCohrqxm",
        "colab": {
          "base_uri": "https://localhost:8080/"
        },
        "outputId": "19a6efe6-53fc-4e12-8677-13faaf2729ec"
      },
      "source": [
        "RMSE = np.sqrt(np.mean(predict - y_test)**2)\n",
        "RMSE"
      ],
      "execution_count": 178,
      "outputs": [
        {
          "output_type": "execute_result",
          "data": {
            "text/plain": [
              "50.38059577986905"
            ]
          },
          "metadata": {
            "tags": []
          },
          "execution_count": 178
        }
      ]
    },
    {
      "cell_type": "markdown",
      "metadata": {
        "id": "-ptH2mqmN6V8"
      },
      "source": [
        "# **Plotting Actual and Predicted Stock Values**"
      ]
    },
    {
      "cell_type": "code",
      "metadata": {
        "colab": {
          "base_uri": "https://localhost:8080/",
          "height": 350
        },
        "id": "UsuKFVzqCAdf",
        "outputId": "3bded1a8-86dd-4426-b6b8-cb06e76f8f86"
      },
      "source": [
        "plt.figure(figsize=(14,5))\n",
        "plt.plot(y_test,color = '#113377', label = 'Actual Stock Price')\n",
        "plt.plot(predict, color = '#993311', label = 'Predicted Stock Price')\n",
        "plt.title('Google Stock Price Prediction')\n",
        "plt.xlabel('Time In Increasing Order')\n",
        "plt.ylabel('Google Stock Price')\n",
        "plt.legend()\n",
        "plt.show()"
      ],
      "execution_count": 185,
      "outputs": [
        {
          "output_type": "display_data",
          "data": {
            "image/png": "[encoded data removed]",
            "text/plain": [
              "<Figure size 1008x360 with 1 Axes>"
            ]
          },
          "metadata": {
            "tags": [],
            "needs_background": "light"
          }
        }
      ]
    },
    {
      "cell_type": "code",
      "metadata": {
        "id": "OpI1iWTJrq-B"
      },
      "source": [
        ""
      ],
      "execution_count": null,
      "outputs": []
    },
    {
      "cell_type": "code",
      "metadata": {
        "id": "wFVDbnOwrrDp"
      },
      "source": [
        ""
      ],
      "execution_count": null,
      "outputs": []
    },
    {
      "cell_type": "code",
      "metadata": {
        "id": "uwOLigvKrrJW"
      },
      "source": [
        ""
      ],
      "execution_count": null,
      "outputs": []
    },
    {
      "cell_type": "code",
      "metadata": {
        "id": "TbR_vwMHrrOE"
      },
      "source": [
        ""
      ],
      "execution_count": null,
      "outputs": []
    },
    {
      "cell_type": "code",
      "metadata": {
        "id": "dHBoLM34rrTk"
      },
      "source": [
        ""
      ],
      "execution_count": null,
      "outputs": []
    },
    {
      "cell_type": "code",
      "metadata": {
        "id": "wZSIUUv8rrYi"
      },
      "source": [
        ""
      ],
      "execution_count": null,
      "outputs": []
    },
    {
      "cell_type": "code",
      "metadata": {
        "id": "KFHU8G9-rrdV"
      },
      "source": [
        ""
      ],
      "execution_count": null,
      "outputs": []
    },
    {
      "cell_type": "code",
      "metadata": {
        "id": "QP-uPlnwrriC"
      },
      "source": [
        ""
      ],
      "execution_count": null,
      "outputs": []
    },
    {
      "cell_type": "code",
      "metadata": {
        "id": "whJu34airrnd"
      },
      "source": [
        ""
      ],
      "execution_count": null,
      "outputs": []
    },
    {
      "cell_type": "code",
      "metadata": {
        "id": "AFfAbB5YrrsS"
      },
      "source": [
        ""
      ],
      "execution_count": null,
      "outputs": []
    }
  ]
}